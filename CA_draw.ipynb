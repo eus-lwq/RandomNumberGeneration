{
  "nbformat": 4,
  "nbformat_minor": 0,
  "metadata": {
    "colab": {
      "provenance": []
    },
    "kernelspec": {
      "name": "python3",
      "display_name": "Python 3"
    },
    "language_info": {
      "name": "python"
    }
  },
  "cells": [
    {
      "cell_type": "code",
      "execution_count": null,
      "metadata": {
        "colab": {
          "base_uri": "https://localhost:8080/"
        },
        "id": "VH5ywQxDu4QJ",
        "outputId": "22c9be7a-b3d1-485a-828c-c3495cea0ff3"
      },
      "outputs": [
        {
          "output_type": "stream",
          "name": "stdout",
          "text": [
            "Mounted at /content/drive\n"
          ]
        }
      ],
      "source": [
        "from google.colab import drive\n",
        "drive.mount('/content/drive', force_remount=True)"
      ]
    },
    {
      "cell_type": "code",
      "source": [
        "import random as rd\n",
        "import numpy as np\n",
        "import pandas as pd\n",
        "import uuid\n",
        "from random import randint\n",
        "import concurrent\n",
        "import matplotlib.pyplot as plt\n",
        "import random\n",
        "import heapq\n",
        "import subprocess\n",
        "import os\n",
        "from tqdm.auto import tqdm\n",
        "import re\n",
        "import concurrent.futures\n",
        "import itertools"
      ],
      "metadata": {
        "id": "NqPQ1PObvFfH"
      },
      "execution_count": null,
      "outputs": []
    },
    {
      "cell_type": "code",
      "source": [
        "!cp \"./drive/MyDrive/CISC455/CA_draw/ca_draw\" \"/content\"\n",
        "!chmod \"755\" \"./ca_draw\""
      ],
      "metadata": {
        "id": "l1RCvAfS2fO6"
      },
      "execution_count": null,
      "outputs": []
    },
    {
      "cell_type": "code",
      "source": [
        "# main_cpp = \"./drive/MyDrive/CISC455/CA_draw/main.cpp\"\n",
        "# makeCA_cpp = \"./drive/MyDrive/CISC455/CA_draw/makeCA.cpp\"\n",
        "# result = subprocess.check_output([\"gcc\",\"-o\", \"ca_draw\", \n",
        "#                    \"-O3\", \"-march=native\", \n",
        "#                    main_cpp, makeCA_cpp, \"-fopenmp\"])\n",
        "\n",
        "# print(result)"
      ],
      "metadata": {
        "id": "GjTuLeakvJuy"
      },
      "execution_count": null,
      "outputs": []
    },
    {
      "cell_type": "markdown",
      "source": [
        "# output the binary files here"
      ],
      "metadata": {
        "id": "BI3nMJyKZHGd"
      }
    },
    {
      "cell_type": "code",
      "source": [
        "fileName = \"output\"\n",
        "fileName = \"./\"+fileName + \".txt\"\n",
        "\n",
        "def CA_draw(seed, cyc_len, grid_size, ca_size, rules:str):\n",
        "  subprocess.call([\"./ca_draw\",str(seed), str(cyc_len), \n",
        "                   str(grid_size), str(ca_size), \n",
        "                   rules, fileName])\n",
        "  \n",
        "# example\n",
        "ca_good = \"31 31 31 31 31 63 63 15 63 63 63 31 31 63 63 63 63 63 31 31 31 63 63 63 47 47 63 63 63 63 63 63 15 63 31 63 63 63 63 31 63 63 31 63 63 63 15 31 63 31 31 31 31 63 31 63 63 31 31 31 31 15 31 15\"\n",
        "ca_bad = \"234 225 8 104 194 244 111 131 89 96 55 77 95 67 96 238 82 47 156 116 206 52 47 97 184 8 108 43 178 101 147 30 70 119 129 130 146 47 204 61 30 78 96 199 186 146 64 244 41 135 3 173 2 157 117 174 2 143 156 73 97 12\"\n",
        "ca_best_gen = \"98 52 177 30 30 72 49 172 2 83 16 123 218 218 46 173 171 137 100 162 138 241 154 13 237 148 163 210 222 222 148 224 134 134 84 226 120 176 189 132 177 170 120 9 177 102 91 225 208 49 184 54 144 208 109 210 47 27 228 47 27 74 239 27\"\n",
        "\n",
        "# place your rule here\n",
        "seed = 123\n",
        "cyc_len = 1\n",
        "grid_size = 8\n",
        "ca_size = 64\n",
        "Ca_option = \"\"\n",
        "CA_draw(seed, cyc_len, grid_size, ca_size,Ca_option)"
      ],
      "metadata": {
        "id": "9m5_qsPAvZ-G"
      },
      "execution_count": null,
      "outputs": []
    },
    {
      "cell_type": "markdown",
      "source": [
        "# Display the binary files here"
      ],
      "metadata": {
        "id": "KUVpwocvZKiM"
      }
    },
    {
      "cell_type": "code",
      "source": [
        "def seeExample_CA1(data):\n",
        "  fig, ax = plt.subplots(figsize=(16,16))\n",
        "  im = ax.imshow(data, cmap='gray_r')\n",
        "  ax.set_xlabel(\"columns\")\n",
        "  ax.set_ylabel(\"rows\")\n",
        "  ax.set_title(\"Example mat plot\")\n",
        "  plt.show()\n",
        "seeExample_CA1(fileName)"
      ],
      "metadata": {
        "id": "bS6HYrUXv5Gs"
      },
      "execution_count": null,
      "outputs": []
    }
  ]
}