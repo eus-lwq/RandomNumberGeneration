{
  "nbformat": 4,
  "nbformat_minor": 0,
  "metadata": {
    "colab": {
      "provenance": []
    },
    "kernelspec": {
      "name": "python3",
      "display_name": "Python 3"
    },
    "language_info": {
      "name": "python"
    }
  },
  "cells": [
    {
      "cell_type": "code",
      "source": [
        "import math\n",
        "import numpy as np"
      ],
      "metadata": {
        "id": "PD_CknrLC_y7"
      },
      "execution_count": 4,
      "outputs": []
    },
    {
      "cell_type": "code",
      "source": [
        "#default input n is int and n > 1\n",
        "#可以替换掉prime，complexity更低\n",
        "def n_method(n:int):\n",
        "  if n < 2:\n",
        "    return False\n",
        "  else:\n",
        "    n_method = int(np.sqrt(n)) + 1\n",
        "    for i in range(2, n_method):\n",
        "      if n % i == 0:\n",
        "        return False\n",
        "  return True"
      ],
      "metadata": {
        "id": "fQM8mVXdDIQ9"
      },
      "execution_count": 20,
      "outputs": []
    },
    {
      "cell_type": "code",
      "source": [
        "#你们可以随便试试\n",
        "prime = [563, 593, 607, 653, 733, 947, 977, 1103, 1123, 1187, 1223, 1367, 1511, 1747, 1753, 1907, 2287, 2417, 2677, 2903, 2963, 3307, 3313, 3637, 3733, 4013, 4409, 4457, 4597, 4657, 4691, 4993, 5107, 5113, 5303, 5387, 5393]\n",
        "for item in prime:\n",
        "  if n_method(item) == False:\n",
        "    print(item)\n",
        "    break\n",
        "composite = [4,6,8,9,10,12,14,15,16,18,20,21,22,24,25]\n",
        "for item in composite:\n",
        "  if n_method(item) == True:\n",
        "    print(item)\n",
        "    break"
      ],
      "metadata": {
        "id": "Fq4lORYrEjhW"
      },
      "execution_count": 19,
      "outputs": []
    },
    {
      "cell_type": "code",
      "source": [],
      "metadata": {
        "id": "eXWCVhJEG9dF"
      },
      "execution_count": null,
      "outputs": []
    },
    {
      "cell_type": "code",
      "source": [],
      "metadata": {
        "id": "qSMkOBZzYudu"
      },
      "execution_count": null,
      "outputs": []
    }
  ]
}