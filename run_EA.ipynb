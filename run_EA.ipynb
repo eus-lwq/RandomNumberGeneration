{
  "cells": [
    {
      "cell_type": "code",
      "execution_count": null,
      "metadata": {
        "colab": {
          "base_uri": "https://localhost:8080/"
        },
        "id": "P1F8G-_t3Dmj",
        "outputId": "139b113f-ba3d-4113-b4bc-1fe5127fd647"
      },
      "outputs": [
        {
          "output_type": "stream",
          "name": "stdout",
          "text": [
            "Mounted at /content/drive\n"
          ]
        }
      ],
      "source": [
        "from google.colab import drive\n",
        "drive.mount('/content/drive', force_remount=True)"
      ]
    },
    {
      "cell_type": "markdown",
      "metadata": {
        "id": "wwXwAzk_075i"
      },
      "source": [
        "# All imports"
      ]
    },
    {
      "cell_type": "code",
      "execution_count": null,
      "metadata": {
        "id": "wFD5aV7707SM"
      },
      "outputs": [],
      "source": [
        "import random as rd\n",
        "import numpy as np\n",
        "import pandas as pd\n",
        "import uuid\n",
        "from random import randint\n",
        "import concurrent\n",
        "import matplotlib.pyplot as plt\n",
        "import random\n",
        "import heapq\n",
        "import subprocess\n",
        "\n",
        "import os\n",
        "from tqdm.auto import tqdm\n",
        "import re\n",
        "import concurrent.futures\n",
        "import itertools"
      ]
    },
    {
      "cell_type": "markdown",
      "metadata": {
        "id": "VH-ifln5Hh-3"
      },
      "source": [
        "# Evaluate CA in CPP"
      ]
    },
    {
      "cell_type": "code",
      "execution_count": null,
      "metadata": {
        "id": "tydy1TA9khIC"
      },
      "outputs": [],
      "source": [
        "!cp \"./drive/MyDrive/CISC455/CAFIT2/ca_fit\" \"/content\"\n",
        "!cp \"./drive/MyDrive/CISC455/NIST_tests/assess\" \"/content\"\n",
        "!cp -r \"./drive/MyDrive/CISC455/NIST_tests/experiments\" \"/content\"\n",
        "!cp -r \"./drive/MyDrive/CISC455/NIST_tests/templates\" \"/content\"\n",
        "!chmod \"755\" \"./assess\"\n",
        "!chmod \"755\" \"./ca_fit\""
      ]
    },
    {
      "cell_type": "code",
      "execution_count": null,
      "metadata": {
        "colab": {
          "base_uri": "https://localhost:8080/"
        },
        "id": "GuuzFcEvh9Sh",
        "outputId": "d5d7cdb5-0076-4808-e190-cfb9420ea5e0"
      },
      "outputs": [
        {
          "output_type": "execute_result",
          "data": {
            "text/plain": [
              "0.799099099099099"
            ]
          },
          "metadata": {},
          "execution_count": 4
        }
      ],
      "source": [
        "root_directory = './experiments/AlgorithmTesting'\n",
        "NOT_TEST = []\n",
        "def extract_proportions_path_version(NOT_TEST,root_directory):\n",
        "    # Initialize an empty dictionary to store the results\n",
        "    results_dict = {}\n",
        "\n",
        "    # Loop through all the folders in the root directory\n",
        "    for folder_name in os.listdir(root_directory):\n",
        "        if folder_name in NOT_TEST:\n",
        "            continue\n",
        "        folder_path = os.path.join(root_directory, folder_name)\n",
        "        \n",
        "        # Check if the folder contains a file named \"results.txt\"\n",
        "        results_file_path = os.path.join(folder_path, 'results.txt')\n",
        "        if os.path.isfile(results_file_path):\n",
        "            # If the file exists, read its contents and store them in the dictionary\n",
        "            with open(results_file_path, 'r') as f:\n",
        "                results_content = f.readlines()\n",
        "                pvalue_list = []\n",
        "                if results_content!= None:\n",
        "                    for pvalue in results_content:\n",
        "                        pvalue_list.append(float(pvalue.rstrip('\\n')))\n",
        "                results_dict[folder_name] = pvalue_list\n",
        "    return results_dict\n",
        "\n",
        "def fitness_calc(NOT_TEST,root_directory):\n",
        "    pvalue_dict = extract_proportions_path_version(NOT_TEST, root_directory)\n",
        "    # print(pvalue_dict)\n",
        "    for key, values in pvalue_dict.items():\n",
        "        for i, value in enumerate(values):\n",
        "            if float(value) > 0.01:\n",
        "                values[i] = 1\n",
        "            else:\n",
        "                values[i] = 0\n",
        "    # print(pvalue_dict)\n",
        "    for key, values in pvalue_dict.items():\n",
        "        avg_val = 0\n",
        "        val_len = len(pvalue_dict[key])\n",
        "        if val_len != 0:\n",
        "          avg_val = sum(pvalue_dict[key])/len(pvalue_dict[key])\n",
        "        pvalue_dict[key] = avg_val\n",
        "    fitness = 0\n",
        "    val_len = len(pvalue_dict.values())\n",
        "    if val_len != 0:\n",
        "      fitness = sum(pvalue_dict.values()) / val_len\n",
        "    return fitness\n",
        "# extract_proportions_path_version(NOT_TEST, root_directory)\n",
        "fitness_calc(NOT_TEST, root_directory)"
      ]
    },
    {
      "cell_type": "code",
      "execution_count": null,
      "metadata": {
        "id": "ehR8q6RrHoO3",
        "colab": {
          "base_uri": "https://localhost:8080/"
        },
        "outputId": "261086cc-c77b-458c-c18b-c9d747a060c9"
      },
      "outputs": [
        {
          "output_type": "execute_result",
          "data": {
            "text/plain": [
              "0.937138271875114"
            ]
          },
          "metadata": {},
          "execution_count": 10
        }
      ],
      "source": [
        "def fitness_cpp(seed, cyc_len, grid_size, ca_size, rules:str):\n",
        "  fileName = str(uuid.uuid4().hex)\n",
        "  dirName = \"./\" + fileName\n",
        "  subprocess.call([\"./ca_fit\",str(seed), str(cyc_len), \n",
        "                   str(grid_size), str(ca_size), \n",
        "                   rules, fileName])\n",
        "  subprocess.call([\"mkdir\", dirName])\n",
        "  subprocess.call([\"cp\", \"-r\", \"./experiments/.\", dirName])\n",
        "\n",
        "  input_length = str(((grid_size*ca_size)**2) * 4)\n",
        "  # print(input_length)\n",
        "\n",
        "  fileName = \"./\"+fileName + \".txt\"\n",
        "  # print(input_length)\n",
        "  subprocess.call([\"./assess\", input_length, str(cyc_len / 2), fileName])\n",
        "  \n",
        "  file_path = dirName + \"/AlgorithmTesting\"\n",
        "  # pre_dict = extract_proportions_path_version(NOT_TEST,root_directory)\n",
        "  fitness_score = fitness_calc(NOT_TEST, file_path)\n",
        "  # print(fitness_score)\n",
        "  subprocess.Popen([\"rm\", \"-rf\", dirName])\n",
        "  subprocess.Popen([\"rm\", fileName])\n",
        "  return fitness_score\n",
        "\n",
        "# these are tests\n",
        "ca_good = \"31 31 31 31 31 63 63 15 63 63 63 31 31 63 63 63 63 63 31 31 31 63 63 63 47 47 63 63 63 63 63 63 15 63 31 63 63 63 63 31 63 63 31 63 63 63 15 31 63 31 31 31 31 63 31 63 63 31 31 31 31 15 31 15\"\n",
        "ca_bad = \"234 225 8 104 194 244 111 131 89 96 55 77 95 67 96 238 82 47 156 116 206 52 47 97 184 8 108 43 178 101 147 30 70 119 129 130 146 47 204 61 30 78 96 199 186 146 64 244 41 135 3 173 2 157 117 174 2 143 156 73 97 12\"\n",
        "ca_best_gen = \"98 52 177 30 30 72 49 172 2 83 16 123 218 218 46 173 171 137 100 162 138 241 154 13 237 148 163 210 222 222 148 224 134 134 84 226 120 176 189 132 177 170 120 9 177 102 91 225 208 49 184 54 144 208 109 210 47 27 228 47 27 74 239 27\"\n",
        "fitness_cpp(123, 10, 8, 64,ca_best_gen)"
      ]
    },
    {
      "cell_type": "markdown",
      "metadata": {
        "id": "-3ulg3P41BNs"
      },
      "source": [
        "# CA_grid"
      ]
    },
    {
      "cell_type": "code",
      "execution_count": null,
      "metadata": {
        "colab": {
          "base_uri": "https://localhost:8080/"
        },
        "id": "UHm6PqPJ1Am3",
        "outputId": "353cb5a0-0523-473e-fe9b-3a9733845184"
      },
      "outputs": [
        {
          "output_type": "execute_result",
          "data": {
            "text/plain": [
              "0.00045045045045045046"
            ]
          },
          "metadata": {},
          "execution_count": 17
        }
      ],
      "source": [
        "class CA_grid:\n",
        "    \n",
        "    def __init__(self, grid_rules, cycle_len = 100, seed = 548234213, size = 64) -> None:\n",
        "        self.grid_rules = grid_rules\n",
        "        self.cycle_len = cycle_len\n",
        "        self.seed = seed\n",
        "        self.size = size\n",
        "        self.fitnessValue = 0\n",
        "        \n",
        "    def evalFitness(self):\n",
        "        rules = ''.join([])\n",
        "        for inner_list in self.grid_rules:\n",
        "          for rule in inner_list:\n",
        "            rules += str(rule) + ' '\n",
        "          rules = rules[:-1] + ' '\n",
        "        # print(rules)\n",
        "\n",
        "        result = fitness_cpp(self.seed, self.cycle_len,\n",
        "                             len(self.grid_rules), self.size, rules.strip())\n",
        "        \n",
        "        # print(result)\n",
        "\n",
        "        return result\n",
        "                                                 \n",
        "    def display(self):\n",
        "        for row in self.grid_rules:\n",
        "            print(row)\n",
        "        print()\n",
        "        rules = ''.join([])\n",
        "        for inner_list in self.grid_rules:\n",
        "          for rule in inner_list:\n",
        "            rules += str(rule) + ' '\n",
        "          rules = rules[:-1] + ' '\n",
        "        print(rules)\n",
        "        print()\n",
        "CA_grid([[rd.randint(0, 255) for _ in range(8)] for _ in range(8)]).evalFitness()"
      ]
    },
    {
      "cell_type": "markdown",
      "metadata": {
        "id": "aiHvH3Xe00yN"
      },
      "source": [
        "# Initilzation"
      ]
    },
    {
      "cell_type": "code",
      "execution_count": null,
      "metadata": {
        "id": "JK2HzMAt04FH"
      },
      "outputs": [],
      "source": [
        "def permutation(pop_size : int, chrom_size: int)-> list[CA_grid]:\n",
        "    # return a CA_grid object and each of them contains a rules map\n",
        "    return [\n",
        "        CA_grid([\n",
        "            [rd.randint(0, 255) for _ in range(chrom_size)] for _ in range(chrom_size)\n",
        "        ]) for _ in range(pop_size)\n",
        "    ]\n",
        "\n"
      ]
    },
    {
      "cell_type": "markdown",
      "metadata": {
        "id": "MbtcUgNz1sYi"
      },
      "source": [
        "# Mutation"
      ]
    },
    {
      "cell_type": "code",
      "execution_count": null,
      "metadata": {
        "id": "5ZwxUWfC1tua"
      },
      "outputs": [],
      "source": [
        "def permutation_swap(individual):\n",
        "    # Copy the input list to avoid modifying it directly\n",
        "    new_individual = individual.copy()\n",
        "\n",
        "    # Swap a pair of rows with uniform probability\n",
        "    if random.uniform(0, 1) < 0.5:\n",
        "        row1, row2 = random.sample(range(len(new_individual)), 2)\n",
        "        new_individual[row1], new_individual[row2] = new_individual[row2], new_individual[row1]\n",
        "\n",
        "    # Iterate over each row and swap elements with 0.2 probability\n",
        "    for i in range(len(new_individual)):\n",
        "        if random.uniform(0, 1) < 0.2:\n",
        "            col1, col2 = random.sample(range(len(new_individual[i])), 2)\n",
        "            new_individual[i][col1], new_individual[i][col2] = new_individual[i][col2], new_individual[i][col1]\n",
        "\n",
        "    return new_individual                                                                                                                                                                                                                                                    "
      ]
    },
    {
      "cell_type": "markdown",
      "metadata": {
        "id": "c3OuH3uV1xFJ"
      },
      "source": [
        "# Parent Selection"
      ]
    },
    {
      "cell_type": "code",
      "execution_count": null,
      "metadata": {
        "id": "iQvqST_Z12P-"
      },
      "outputs": [],
      "source": [
        "def MPS(fitness, mating_pool_size):\n",
        "    \"\"\"Multi-pointer selection (MPS)\"\"\"\n",
        "\n",
        "    selected_to_mate = []\n",
        "\n",
        "    # student code starts\n",
        "    fit_sum = sum(fitness)\n",
        "    number = len(fitness)\n",
        "    cumulative = 0\n",
        "    cumulative_prob_dist = []\n",
        "    for i in range(0, number): # calculate the cumulative probability distribution\n",
        "        cumulative += fitness[i]\n",
        "        cumulative_prob_dist.append(float(cumulative/fit_sum))\n",
        "\n",
        "    current_number = 0\n",
        "    i = 0\n",
        "    r = random.uniform(0, 1 / mating_pool_size)\n",
        "    while current_number < mating_pool_size:\n",
        "        while r <= cumulative_prob_dist[i]:\n",
        "            selected_to_mate.append(i)\n",
        "            r = r + 1 / mating_pool_size\n",
        "            current_number += 1\n",
        "        i += 1\n",
        "    # student code ends\n",
        "    \n",
        "    return selected_to_mate\n",
        "\n",
        "\n",
        "def tournament(fitness, mating_pool_size, tournament_size):\n",
        "    \"\"\"Tournament selection without replacement\"\"\"\n",
        "\n",
        "    selected_to_mate = []\n",
        "\n",
        "    # student code starts\n",
        "    number = len(fitness)\n",
        "    for current_number in range(mating_pool_size):\n",
        "        participants = random.sample(range(number), tournament_size) # ramdomly choose without replacement\n",
        "        champion = participants[0]\n",
        "        for i in range(1, tournament_size):\n",
        "            if fitness[participants[i]] > fitness[champion]:\n",
        "                champion = participants[i]\n",
        "        selected_to_mate.append(champion)\n",
        "    # student code ends\n",
        "    \n",
        "    return selected_to_mate\n",
        "\n",
        "\n",
        "def random_uniform (population_size, mating_pool_size):\n",
        "    \"\"\"Random uniform selection\"\"\"\n",
        "\n",
        "    selected_to_mate = []\n",
        "\n",
        "    # student code starts\n",
        "    selected_to_mate = random.sample(range(population_size), mating_pool_size)\n",
        "    # student code ends\n",
        "    \n",
        "    return selected_to_mate"
      ]
    },
    {
      "cell_type": "markdown",
      "metadata": {
        "id": "bBBCP_6Q17qL"
      },
      "source": [
        "# Recommbanation"
      ]
    },
    {
      "cell_type": "code",
      "execution_count": null,
      "metadata": {
        "id": "KYLGOEEy19x9"
      },
      "outputs": [],
      "source": [
        "def permutation_cut_and_crossfill(list1, list2):\n",
        "    \"\"\"Randomly swaps values between two lists.\"\"\"\n",
        "    # Determine the length of the lists\n",
        "    n = len(list1)\n",
        "    # Choose a random index to split the lists\n",
        "    split_index = random.randint(1, n-1)\n",
        "    # Create two sublists from the original lists\n",
        "    sublist1_1 = list1[:split_index]\n",
        "    sublist1_2 = list1[split_index:]\n",
        "    sublist2_1 = list2[:split_index]\n",
        "    sublist2_2 = list2[split_index:]\n",
        "    # Shuffle the two sublists from each list\n",
        "    random.shuffle(sublist1_1)\n",
        "    random.shuffle(sublist2_1)\n",
        "    # Combine the shuffled sublists into two new lists\n",
        "    new_list1 = sublist1_1 + sublist2_2\n",
        "    new_list2 = sublist2_1 + sublist1_2\n",
        "    # Return the new lists\n",
        "    return new_list1, new_list2"
      ]
    },
    {
      "cell_type": "markdown",
      "metadata": {
        "id": "R1stOYOZ2OQu"
      },
      "source": [
        "# Survivor selection"
      ]
    },
    {
      "cell_type": "code",
      "execution_count": null,
      "metadata": {
        "id": "qzjQRKXy2N4C"
      },
      "outputs": [],
      "source": [
        "def mu_plus_lambda(current_pop, current_fitness, offspring, offspring_fitness):\n",
        "    # Combine the current population and offspring into a single population\n",
        "    \n",
        "    mu = len(current_pop)\n",
        "    population = current_pop + offspring\n",
        "    fitness = current_fitness + offspring_fitness\n",
        "\n",
        "    # Sort the combined population by fitness in descending order\n",
        "    sorted_pop_and_fit = sorted(zip(population, fitness), key=lambda x: x[1], reverse=True)\n",
        "    sorted_population = [pop for pop, _ in sorted_pop_and_fit]\n",
        "    sorted_fitness = [fit for _, fit in sorted_pop_and_fit]\n",
        "\n",
        "    # Select the top mu individuals as the next generation\n",
        "    next_pop = sorted_population[:mu]\n",
        "    next_fitness = sorted_fitness[:mu]\n",
        "\n",
        "    return next_pop, next_fitness\n",
        "\n",
        "\n",
        "def replacement(current_pop, current_fitness, offspring, offspring_fitness):\n",
        "    \"\"\"replacement selection\"\"\"\n",
        "\n",
        "    population = []\n",
        "    fitness = []\n",
        "\n",
        "    # student code starts\n",
        "    pop_tup = []\n",
        "    offspring_size = len(offspring_fitness)\n",
        "    list_pop = list(current_pop).copy()\n",
        "    list_fit = list(current_fitness).copy()\n",
        "    list_off = list(offspring).copy()\n",
        "    list_off_fit = list(offspring_fitness).copy()\n",
        "\n",
        "    # store as [(fitness,population), (fitness,population), ....]\n",
        "    for i in range(len(list_fit)):\n",
        "        pop_tup.append((list_fit[i],list_pop[i]))\n",
        "    # sort population only tuple list according to fitness\n",
        "    pop_tup.sort(key=lambda a: a[0],reverse=True)\n",
        "\n",
        "    # replace the worst n(offspring_size) lambda pop with offspring\n",
        "    pop_tup = pop_tup[:len(pop_tup)-offspring_size]\n",
        "\n",
        "    for i in range(offspring_size):\n",
        "        pop_tup.append((list_off_fit[i],list_off[i]))\n",
        "\n",
        "    # get first element of tuple list: fitness\n",
        "    fitness = (list(zip(*pop_tup))[0])\n",
        "    # get second element of tuple list: population\n",
        "    population = (list(zip(*pop_tup))[1])\n",
        "    \n",
        "    # student code ends\n",
        "    \n",
        "    return population, fitness\n",
        "\n",
        "\n",
        "def random_uniform(current_pop, current_fitness, offspring, offspring_fitness):\n",
        "    \"\"\"random uniform selection\"\"\"\n",
        "    population = []\n",
        "    fitness = []\n",
        "\n",
        "    # student code starts\n",
        "    cur_size = len(current_pop)\n",
        "    os_size = len(offspring)\n",
        "    total_size = cur_size + os_size\n",
        "    temp_pop = current_pop + offspring\n",
        "    temp_fit = current_fitness + offspring_fitness\n",
        "    random_idx = random.sample(range(total_size - 1), cur_size)\n",
        "    for i in random_idx:\n",
        "        population.append(temp_pop[i])\n",
        "        fitness.append(temp_fit[i])\n",
        "    \n",
        "    # student code ends\n",
        "    \n",
        "    return population, fitness\n"
      ]
    },
    {
      "cell_type": "markdown",
      "metadata": {
        "id": "eabcFuV_5XEt"
      },
      "source": [
        "# RUN !"
      ]
    },
    {
      "cell_type": "code",
      "execution_count": null,
      "metadata": {
        "colab": {
          "base_uri": "https://localhost:8080/",
          "height": 500,
          "referenced_widgets": [
            "d0d75d10d36e41a99abe05a94babe0c2",
            "be83052af1fe4369902517a4f4ee222e",
            "01d389e852a7499d92c08e96e764cfae",
            "2ddc713e13f44088941b9c8ee78af249",
            "61b0a909b7494c629127979e719eabac",
            "722bd55a555c454db1aba4ac5108f558",
            "329dc2a259a741088ee4bd93e256f0f3",
            "932984e8fad04aca917161e26bb039fd",
            "97feb38ca52a42598204eb2a76a40fa6",
            "79960011a6044417b1719121dffb246a",
            "17aa4e6e1405480586e2c9a23cca2006",
            "1ee351d2f19f458dae60d52ca33150f2",
            "c599e33392144c5396f3f62b612778d0",
            "6d87f9547b064609bfd49da044063b32",
            "1d6edc3ba1294372bb8821652d7d9e68",
            "aa63288f04c94bbe9fc195e2931711ec",
            "8640fdc5c9924309a8a33c746d430ede",
            "afe73d1c72e944a282a468425c013b87",
            "b8351597a79d45459474daa61a7cdf9e",
            "cac6de8e7c6f4ad9a95967564dc02902",
            "7be56689906c4e0096d3d1b69a7eeecd",
            "52c43459fc2349d5890b3e9a3d6a0e76"
          ]
        },
        "id": "kMB64_UL5Ygr",
        "outputId": "30255873-95ae-495c-a032-62e461087076"
      },
      "outputs": [
        {
          "output_type": "display_data",
          "data": {
            "text/plain": [
              "evaluate population:   0%|          | 0/20 [00:00<?, ?it/s]"
            ],
            "application/vnd.jupyter.widget-view+json": {
              "version_major": 2,
              "version_minor": 0,
              "model_id": "d0d75d10d36e41a99abe05a94babe0c2"
            }
          },
          "metadata": {}
        },
        {
          "output_type": "stream",
          "name": "stdout",
          "text": [
            "generation 0 : best fitness 0.2 \taverage fitness 0.023082309582309585\n"
          ]
        },
        {
          "output_type": "display_data",
          "data": {
            "text/plain": [
              "generating:   0%|          | 0/10 [00:00<?, ?it/s]"
            ],
            "application/vnd.jupyter.widget-view+json": {
              "version_major": 2,
              "version_minor": 0,
              "model_id": "1ee351d2f19f458dae60d52ca33150f2"
            }
          },
          "metadata": {}
        },
        {
          "output_type": "stream",
          "name": "stdout",
          "text": [
            "generation 1 : best fitness 0.34877826768237724 average fitness 0.08349091993612541\n",
            "generation 2 : best fitness 0.34877826768237724 average fitness 0.13315975110495656\n",
            "generation 3 : best fitness 0.34877826768237724 average fitness 0.18884316423357517\n",
            "generation 4 : best fitness 0.9516926016926017 average fitness 0.24055596794637904\n",
            "generation 5 : best fitness 0.9576873576873578 average fitness 0.2946255210159321\n",
            "generation 6 : best fitness 0.963912978912979 average fitness 0.36915247573809223\n",
            "generation 7 : best fitness 0.9838049385417806 average fitness 0.5563853416814845\n",
            "generation 8 : best fitness 0.9946995314118603 average fitness 0.8068935052621065\n",
            "generation 9 : best fitness 0.9991891891891892 average fitness 0.97384944788027\n",
            "generation 10 : best fitness 0.9991891891891892 average fitness 0.982010959627398\n",
            "[250, 249, 63, 37, 249, 150, 236, 5]\n",
            "[43, 163, 19, 165, 200, 146, 10, 26]\n",
            "[46, 25, 211, 141, 211, 25, 132, 217]\n",
            "[243, 149, 20, 189, 243, 149, 116, 156]\n",
            "[63, 231, 225, 156, 226, 225, 107, 194]\n",
            "[213, 85, 131, 131, 67, 70, 102, 250]\n",
            "[8, 243, 73, 73, 73, 8, 29, 127]\n",
            "[182, 182, 146, 75, 221, 39, 138, 156]\n",
            "\n",
            "250 249 63 37 249 150 236 5 43 163 19 165 200 146 10 26 46 25 211 141 211 25 132 217 243 149 20 189 243 149 116 156 63 231 225 156 226 225 107 194 213 85 131 131 67 70 102 250 8 243 73 73 73 8 29 127 182 182 146 75 221 39 138 156 \n",
            "\n",
            "best solution 1 None 0.9991891891891892\n"
          ]
        }
      ],
      "source": [
        "\"\"\"\n",
        "CISC455/851 A1\n",
        "A genetic algorithm for the eight queens puzzle\n",
        "\"\"\"\n",
        "def eval_fitness(individual):\n",
        "    return individual.evalFitness()\n",
        "    \n",
        "def generate_offspring(parents, xover_rate, mut_rate):\n",
        "    parent1, parent2 = parents\n",
        "    off1, off2 = parent1.grid_rules.copy(), parent2.grid_rules.copy()\n",
        "\n",
        "    if random.random() < xover_rate:\n",
        "        off1, off2 = [], []\n",
        "        for l1, l2 in zip(parent1.grid_rules, parent2.grid_rules):\n",
        "            off_l1, off_l2 = permutation_cut_and_crossfill(l1, l2)\n",
        "            off1 = [*off1, off_l1]\n",
        "            off2 = [*off2, off_l2]\n",
        "    else:\n",
        "          off1 = parent1.grid_rules.copy()\n",
        "          off2 = parent2.grid_rules.copy()\n",
        "\n",
        "    if random.random() < mut_rate:\n",
        "        off1 = permutation_swap(off1)\n",
        "    if random.random() < mut_rate:\n",
        "        off2 = permutation_swap(off2)\n",
        "\n",
        "    off1 = CA_grid(off1)\n",
        "    off2 = CA_grid(off2)\n",
        "\n",
        "    return off1, off1.evalFitness(), off2, off2.evalFitness()\n",
        "\n",
        "def main():\n",
        "    random.seed()\n",
        "    np.random.seed()\n",
        "\n",
        "    grid_length = 8 # may extend to N queens\n",
        "    # you may test on different parameter settings\n",
        "    popsize = 20\n",
        "    mating_pool_size = int(popsize*0.5) # has to be even\n",
        "    tournament_size = 4\n",
        "    xover_rate = 0.9\n",
        "    mut_rate = 0.2\n",
        "    gen_limit = 10\n",
        "\n",
        "    # # initialize population\n",
        "    # gen = 0 # initialize the generation counter\n",
        "    # population = permutation(popsize, grid_length)\n",
        "    # fitness = []\n",
        "    # for i in tqdm(range(0, popsize), desc=\"evaluate population\"):\n",
        "        \n",
        "    #     fitness.append(population[i].evalFitness())\n",
        "\n",
        "    gen = 0  # initialize the generation counter\n",
        "    population = permutation(popsize, grid_length)\n",
        "\n",
        "    # Create a ThreadPoolExecutor with as many threads as the number of CPU cores\n",
        "    \n",
        "    # fitness = [indi.evalFitness() for indi in tqdm(population, desc=\"evaluating pop\")]\n",
        "    with concurrent.futures.ProcessPoolExecutor() as executor:\n",
        "      fitness = list(tqdm(executor.map(eval_fitness, population),\n",
        "                          total=popsize, desc=\"evaluate population\"))\n",
        "\n",
        "    # print(fitness)\n",
        "    # return\n",
        "    print(\"generation\", gen, \": best fitness\", max(fitness), \n",
        "          \"\\taverage fitness\", sum(fitness)/len(fitness))\n",
        "\n",
        "    # evolution begins\n",
        "    for gen in tqdm(range(1, gen_limit + 1), desc=\"generating\"):\n",
        "        \n",
        "        # pick parents \n",
        "        parents_index = MPS(fitness, mating_pool_size)\n",
        "        random.shuffle(parents_index)\n",
        "\n",
        "        # reproduction\n",
        "        offspring =[]\n",
        "        offspring_fitness = []\n",
        "        i= 0 # initialize the counter for parents in the mating pool\n",
        "        # print(parents_index)\n",
        "        # offspring are generated using selected parents in the mating pool\n",
        "        with concurrent.futures.ProcessPoolExecutor() as executor:\n",
        "          parent_pairs = [(population[parents_index[i]], \n",
        "                           population[parents_index[i + 1]]) for i in range(0, len(parents_index) - 1, 2)]\n",
        "          results = executor.map(generate_offspring, parent_pairs,\n",
        "                                 itertools.repeat(xover_rate), itertools.repeat(mut_rate))\n",
        "\n",
        "          for off1, fit1, off2, fit2 in results:\n",
        "            offspring.extend([off1, off2])\n",
        "            offspring_fitness.extend([fit1, fit2])\n",
        "\n",
        "            if len(offspring) >= mating_pool_size:\n",
        "              break\n",
        "\n",
        "        # organize the population of next generation\n",
        "        population, fitness = mu_plus_lambda(population, \n",
        "                                              fitness, \n",
        "                                              offspring, offspring_fitness)\n",
        "        # population, fitness = survivor_selection.replacement(population, fitness, offspring, offspring_fitness)\n",
        "        # population, fitness = survivor_selection.random_uniform(population, fitness, offspring, offspring_fitness)\n",
        "        \n",
        "        print(\"generation\", gen, \": best fitness\", max(fitness), \"average fitness\", sum(fitness)/len(fitness))\n",
        "        \n",
        "    # evolution ends\n",
        "    \n",
        "    #remove the repeast rows here\n",
        "    # numpy_pop = numpy.array(population)\n",
        "    # numpy_fit = numpy.array(fitness)\n",
        "    # _, index = numpy.unique(numpy_pop, axis=0, return_index=True)\n",
        "    # population = numpy_pop[index].tolist()\n",
        "    # fitness = numpy_fit[index].tolist()\n",
        "    # print the final best solution(s)\n",
        "    k = 0\n",
        "    for i in range (0, len(fitness)):\n",
        "        \n",
        "        #remove the repeating matrix\n",
        "        if fitness[i] == max(fitness):\n",
        "            print(\"best solution\", k + 1, population[i].display(), fitness[i])\n",
        "            # plot_with_text(population[i])\n",
        "            k = k+1\n",
        "\n",
        "# end of main\n",
        "main()\n"
      ]
    },
    {
      "cell_type": "code",
      "execution_count": null,
      "metadata": {
        "id": "BUcDux2wF_5p"
      },
      "outputs": [],
      "source": [
        "numbers = [60, 130, 216, 60, 143, 76, 113, 92]\n",
        "[147, 237, 213, 116, 4, 105, 4, 119]\n",
        "[37, 221, 229, 165, 214, 225, 190, 209]\n",
        "[183, 148, 4, 177, 42, 241, 148, 104]\n",
        "[143, 134, 23, 229, 112, 117, 46, 46]\n",
        "[196, 164, 109, 115, 45, 82, 214, 98]\n",
        "[238, 213, 137, 79, 105, 160, 34, 88]\n",
        "result = \"\"\n",
        "\n",
        "for num in numbers:\n",
        "    \n",
        "      result += str(num) + \" \"\n",
        "\n",
        "print(result.strip())"
      ]
    }
  ],
  "metadata": {
    "colab": {
      "machine_shape": "hm",
      "provenance": []
    },
    "gpuClass": "standard",
    "kernelspec": {
      "display_name": "Python 3",
      "name": "python3"
    },
    "language_info": {
      "name": "python"
    },
    "widgets": {
      "application/vnd.jupyter.widget-state+json": {
        "d0d75d10d36e41a99abe05a94babe0c2": {
          "model_module": "@jupyter-widgets/controls",
          "model_name": "HBoxModel",
          "model_module_version": "1.5.0",
          "state": {
            "_dom_classes": [],
            "_model_module": "@jupyter-widgets/controls",
            "_model_module_version": "1.5.0",
            "_model_name": "HBoxModel",
            "_view_count": null,
            "_view_module": "@jupyter-widgets/controls",
            "_view_module_version": "1.5.0",
            "_view_name": "HBoxView",
            "box_style": "",
            "children": [
              "IPY_MODEL_be83052af1fe4369902517a4f4ee222e",
              "IPY_MODEL_01d389e852a7499d92c08e96e764cfae",
              "IPY_MODEL_2ddc713e13f44088941b9c8ee78af249"
            ],
            "layout": "IPY_MODEL_61b0a909b7494c629127979e719eabac"
          }
        },
        "be83052af1fe4369902517a4f4ee222e": {
          "model_module": "@jupyter-widgets/controls",
          "model_name": "HTMLModel",
          "model_module_version": "1.5.0",
          "state": {
            "_dom_classes": [],
            "_model_module": "@jupyter-widgets/controls",
            "_model_module_version": "1.5.0",
            "_model_name": "HTMLModel",
            "_view_count": null,
            "_view_module": "@jupyter-widgets/controls",
            "_view_module_version": "1.5.0",
            "_view_name": "HTMLView",
            "description": "",
            "description_tooltip": null,
            "layout": "IPY_MODEL_722bd55a555c454db1aba4ac5108f558",
            "placeholder": "​",
            "style": "IPY_MODEL_329dc2a259a741088ee4bd93e256f0f3",
            "value": "evaluate population: 100%"
          }
        },
        "01d389e852a7499d92c08e96e764cfae": {
          "model_module": "@jupyter-widgets/controls",
          "model_name": "FloatProgressModel",
          "model_module_version": "1.5.0",
          "state": {
            "_dom_classes": [],
            "_model_module": "@jupyter-widgets/controls",
            "_model_module_version": "1.5.0",
            "_model_name": "FloatProgressModel",
            "_view_count": null,
            "_view_module": "@jupyter-widgets/controls",
            "_view_module_version": "1.5.0",
            "_view_name": "ProgressView",
            "bar_style": "success",
            "description": "",
            "description_tooltip": null,
            "layout": "IPY_MODEL_932984e8fad04aca917161e26bb039fd",
            "max": 20,
            "min": 0,
            "orientation": "horizontal",
            "style": "IPY_MODEL_97feb38ca52a42598204eb2a76a40fa6",
            "value": 20
          }
        },
        "2ddc713e13f44088941b9c8ee78af249": {
          "model_module": "@jupyter-widgets/controls",
          "model_name": "HTMLModel",
          "model_module_version": "1.5.0",
          "state": {
            "_dom_classes": [],
            "_model_module": "@jupyter-widgets/controls",
            "_model_module_version": "1.5.0",
            "_model_name": "HTMLModel",
            "_view_count": null,
            "_view_module": "@jupyter-widgets/controls",
            "_view_module_version": "1.5.0",
            "_view_name": "HTMLView",
            "description": "",
            "description_tooltip": null,
            "layout": "IPY_MODEL_79960011a6044417b1719121dffb246a",
            "placeholder": "​",
            "style": "IPY_MODEL_17aa4e6e1405480586e2c9a23cca2006",
            "value": " 20/20 [02:00&lt;00:00,  6.04s/it]"
          }
        },
        "61b0a909b7494c629127979e719eabac": {
          "model_module": "@jupyter-widgets/base",
          "model_name": "LayoutModel",
          "model_module_version": "1.2.0",
          "state": {
            "_model_module": "@jupyter-widgets/base",
            "_model_module_version": "1.2.0",
            "_model_name": "LayoutModel",
            "_view_count": null,
            "_view_module": "@jupyter-widgets/base",
            "_view_module_version": "1.2.0",
            "_view_name": "LayoutView",
            "align_content": null,
            "align_items": null,
            "align_self": null,
            "border": null,
            "bottom": null,
            "display": null,
            "flex": null,
            "flex_flow": null,
            "grid_area": null,
            "grid_auto_columns": null,
            "grid_auto_flow": null,
            "grid_auto_rows": null,
            "grid_column": null,
            "grid_gap": null,
            "grid_row": null,
            "grid_template_areas": null,
            "grid_template_columns": null,
            "grid_template_rows": null,
            "height": null,
            "justify_content": null,
            "justify_items": null,
            "left": null,
            "margin": null,
            "max_height": null,
            "max_width": null,
            "min_height": null,
            "min_width": null,
            "object_fit": null,
            "object_position": null,
            "order": null,
            "overflow": null,
            "overflow_x": null,
            "overflow_y": null,
            "padding": null,
            "right": null,
            "top": null,
            "visibility": null,
            "width": null
          }
        },
        "722bd55a555c454db1aba4ac5108f558": {
          "model_module": "@jupyter-widgets/base",
          "model_name": "LayoutModel",
          "model_module_version": "1.2.0",
          "state": {
            "_model_module": "@jupyter-widgets/base",
            "_model_module_version": "1.2.0",
            "_model_name": "LayoutModel",
            "_view_count": null,
            "_view_module": "@jupyter-widgets/base",
            "_view_module_version": "1.2.0",
            "_view_name": "LayoutView",
            "align_content": null,
            "align_items": null,
            "align_self": null,
            "border": null,
            "bottom": null,
            "display": null,
            "flex": null,
            "flex_flow": null,
            "grid_area": null,
            "grid_auto_columns": null,
            "grid_auto_flow": null,
            "grid_auto_rows": null,
            "grid_column": null,
            "grid_gap": null,
            "grid_row": null,
            "grid_template_areas": null,
            "grid_template_columns": null,
            "grid_template_rows": null,
            "height": null,
            "justify_content": null,
            "justify_items": null,
            "left": null,
            "margin": null,
            "max_height": null,
            "max_width": null,
            "min_height": null,
            "min_width": null,
            "object_fit": null,
            "object_position": null,
            "order": null,
            "overflow": null,
            "overflow_x": null,
            "overflow_y": null,
            "padding": null,
            "right": null,
            "top": null,
            "visibility": null,
            "width": null
          }
        },
        "329dc2a259a741088ee4bd93e256f0f3": {
          "model_module": "@jupyter-widgets/controls",
          "model_name": "DescriptionStyleModel",
          "model_module_version": "1.5.0",
          "state": {
            "_model_module": "@jupyter-widgets/controls",
            "_model_module_version": "1.5.0",
            "_model_name": "DescriptionStyleModel",
            "_view_count": null,
            "_view_module": "@jupyter-widgets/base",
            "_view_module_version": "1.2.0",
            "_view_name": "StyleView",
            "description_width": ""
          }
        },
        "932984e8fad04aca917161e26bb039fd": {
          "model_module": "@jupyter-widgets/base",
          "model_name": "LayoutModel",
          "model_module_version": "1.2.0",
          "state": {
            "_model_module": "@jupyter-widgets/base",
            "_model_module_version": "1.2.0",
            "_model_name": "LayoutModel",
            "_view_count": null,
            "_view_module": "@jupyter-widgets/base",
            "_view_module_version": "1.2.0",
            "_view_name": "LayoutView",
            "align_content": null,
            "align_items": null,
            "align_self": null,
            "border": null,
            "bottom": null,
            "display": null,
            "flex": null,
            "flex_flow": null,
            "grid_area": null,
            "grid_auto_columns": null,
            "grid_auto_flow": null,
            "grid_auto_rows": null,
            "grid_column": null,
            "grid_gap": null,
            "grid_row": null,
            "grid_template_areas": null,
            "grid_template_columns": null,
            "grid_template_rows": null,
            "height": null,
            "justify_content": null,
            "justify_items": null,
            "left": null,
            "margin": null,
            "max_height": null,
            "max_width": null,
            "min_height": null,
            "min_width": null,
            "object_fit": null,
            "object_position": null,
            "order": null,
            "overflow": null,
            "overflow_x": null,
            "overflow_y": null,
            "padding": null,
            "right": null,
            "top": null,
            "visibility": null,
            "width": null
          }
        },
        "97feb38ca52a42598204eb2a76a40fa6": {
          "model_module": "@jupyter-widgets/controls",
          "model_name": "ProgressStyleModel",
          "model_module_version": "1.5.0",
          "state": {
            "_model_module": "@jupyter-widgets/controls",
            "_model_module_version": "1.5.0",
            "_model_name": "ProgressStyleModel",
            "_view_count": null,
            "_view_module": "@jupyter-widgets/base",
            "_view_module_version": "1.2.0",
            "_view_name": "StyleView",
            "bar_color": null,
            "description_width": ""
          }
        },
        "79960011a6044417b1719121dffb246a": {
          "model_module": "@jupyter-widgets/base",
          "model_name": "LayoutModel",
          "model_module_version": "1.2.0",
          "state": {
            "_model_module": "@jupyter-widgets/base",
            "_model_module_version": "1.2.0",
            "_model_name": "LayoutModel",
            "_view_count": null,
            "_view_module": "@jupyter-widgets/base",
            "_view_module_version": "1.2.0",
            "_view_name": "LayoutView",
            "align_content": null,
            "align_items": null,
            "align_self": null,
            "border": null,
            "bottom": null,
            "display": null,
            "flex": null,
            "flex_flow": null,
            "grid_area": null,
            "grid_auto_columns": null,
            "grid_auto_flow": null,
            "grid_auto_rows": null,
            "grid_column": null,
            "grid_gap": null,
            "grid_row": null,
            "grid_template_areas": null,
            "grid_template_columns": null,
            "grid_template_rows": null,
            "height": null,
            "justify_content": null,
            "justify_items": null,
            "left": null,
            "margin": null,
            "max_height": null,
            "max_width": null,
            "min_height": null,
            "min_width": null,
            "object_fit": null,
            "object_position": null,
            "order": null,
            "overflow": null,
            "overflow_x": null,
            "overflow_y": null,
            "padding": null,
            "right": null,
            "top": null,
            "visibility": null,
            "width": null
          }
        },
        "17aa4e6e1405480586e2c9a23cca2006": {
          "model_module": "@jupyter-widgets/controls",
          "model_name": "DescriptionStyleModel",
          "model_module_version": "1.5.0",
          "state": {
            "_model_module": "@jupyter-widgets/controls",
            "_model_module_version": "1.5.0",
            "_model_name": "DescriptionStyleModel",
            "_view_count": null,
            "_view_module": "@jupyter-widgets/base",
            "_view_module_version": "1.2.0",
            "_view_name": "StyleView",
            "description_width": ""
          }
        },
        "1ee351d2f19f458dae60d52ca33150f2": {
          "model_module": "@jupyter-widgets/controls",
          "model_name": "HBoxModel",
          "model_module_version": "1.5.0",
          "state": {
            "_dom_classes": [],
            "_model_module": "@jupyter-widgets/controls",
            "_model_module_version": "1.5.0",
            "_model_name": "HBoxModel",
            "_view_count": null,
            "_view_module": "@jupyter-widgets/controls",
            "_view_module_version": "1.5.0",
            "_view_name": "HBoxView",
            "box_style": "",
            "children": [
              "IPY_MODEL_c599e33392144c5396f3f62b612778d0",
              "IPY_MODEL_6d87f9547b064609bfd49da044063b32",
              "IPY_MODEL_1d6edc3ba1294372bb8821652d7d9e68"
            ],
            "layout": "IPY_MODEL_aa63288f04c94bbe9fc195e2931711ec"
          }
        },
        "c599e33392144c5396f3f62b612778d0": {
          "model_module": "@jupyter-widgets/controls",
          "model_name": "HTMLModel",
          "model_module_version": "1.5.0",
          "state": {
            "_dom_classes": [],
            "_model_module": "@jupyter-widgets/controls",
            "_model_module_version": "1.5.0",
            "_model_name": "HTMLModel",
            "_view_count": null,
            "_view_module": "@jupyter-widgets/controls",
            "_view_module_version": "1.5.0",
            "_view_name": "HTMLView",
            "description": "",
            "description_tooltip": null,
            "layout": "IPY_MODEL_8640fdc5c9924309a8a33c746d430ede",
            "placeholder": "​",
            "style": "IPY_MODEL_afe73d1c72e944a282a468425c013b87",
            "value": "generating: 100%"
          }
        },
        "6d87f9547b064609bfd49da044063b32": {
          "model_module": "@jupyter-widgets/controls",
          "model_name": "FloatProgressModel",
          "model_module_version": "1.5.0",
          "state": {
            "_dom_classes": [],
            "_model_module": "@jupyter-widgets/controls",
            "_model_module_version": "1.5.0",
            "_model_name": "FloatProgressModel",
            "_view_count": null,
            "_view_module": "@jupyter-widgets/controls",
            "_view_module_version": "1.5.0",
            "_view_name": "ProgressView",
            "bar_style": "success",
            "description": "",
            "description_tooltip": null,
            "layout": "IPY_MODEL_b8351597a79d45459474daa61a7cdf9e",
            "max": 10,
            "min": 0,
            "orientation": "horizontal",
            "style": "IPY_MODEL_cac6de8e7c6f4ad9a95967564dc02902",
            "value": 10
          }
        },
        "1d6edc3ba1294372bb8821652d7d9e68": {
          "model_module": "@jupyter-widgets/controls",
          "model_name": "HTMLModel",
          "model_module_version": "1.5.0",
          "state": {
            "_dom_classes": [],
            "_model_module": "@jupyter-widgets/controls",
            "_model_module_version": "1.5.0",
            "_model_name": "HTMLModel",
            "_view_count": null,
            "_view_module": "@jupyter-widgets/controls",
            "_view_module_version": "1.5.0",
            "_view_name": "HTMLView",
            "description": "",
            "description_tooltip": null,
            "layout": "IPY_MODEL_7be56689906c4e0096d3d1b69a7eeecd",
            "placeholder": "​",
            "style": "IPY_MODEL_52c43459fc2349d5890b3e9a3d6a0e76",
            "value": " 10/10 [14:23&lt;00:00, 98.74s/it]"
          }
        },
        "aa63288f04c94bbe9fc195e2931711ec": {
          "model_module": "@jupyter-widgets/base",
          "model_name": "LayoutModel",
          "model_module_version": "1.2.0",
          "state": {
            "_model_module": "@jupyter-widgets/base",
            "_model_module_version": "1.2.0",
            "_model_name": "LayoutModel",
            "_view_count": null,
            "_view_module": "@jupyter-widgets/base",
            "_view_module_version": "1.2.0",
            "_view_name": "LayoutView",
            "align_content": null,
            "align_items": null,
            "align_self": null,
            "border": null,
            "bottom": null,
            "display": null,
            "flex": null,
            "flex_flow": null,
            "grid_area": null,
            "grid_auto_columns": null,
            "grid_auto_flow": null,
            "grid_auto_rows": null,
            "grid_column": null,
            "grid_gap": null,
            "grid_row": null,
            "grid_template_areas": null,
            "grid_template_columns": null,
            "grid_template_rows": null,
            "height": null,
            "justify_content": null,
            "justify_items": null,
            "left": null,
            "margin": null,
            "max_height": null,
            "max_width": null,
            "min_height": null,
            "min_width": null,
            "object_fit": null,
            "object_position": null,
            "order": null,
            "overflow": null,
            "overflow_x": null,
            "overflow_y": null,
            "padding": null,
            "right": null,
            "top": null,
            "visibility": null,
            "width": null
          }
        },
        "8640fdc5c9924309a8a33c746d430ede": {
          "model_module": "@jupyter-widgets/base",
          "model_name": "LayoutModel",
          "model_module_version": "1.2.0",
          "state": {
            "_model_module": "@jupyter-widgets/base",
            "_model_module_version": "1.2.0",
            "_model_name": "LayoutModel",
            "_view_count": null,
            "_view_module": "@jupyter-widgets/base",
            "_view_module_version": "1.2.0",
            "_view_name": "LayoutView",
            "align_content": null,
            "align_items": null,
            "align_self": null,
            "border": null,
            "bottom": null,
            "display": null,
            "flex": null,
            "flex_flow": null,
            "grid_area": null,
            "grid_auto_columns": null,
            "grid_auto_flow": null,
            "grid_auto_rows": null,
            "grid_column": null,
            "grid_gap": null,
            "grid_row": null,
            "grid_template_areas": null,
            "grid_template_columns": null,
            "grid_template_rows": null,
            "height": null,
            "justify_content": null,
            "justify_items": null,
            "left": null,
            "margin": null,
            "max_height": null,
            "max_width": null,
            "min_height": null,
            "min_width": null,
            "object_fit": null,
            "object_position": null,
            "order": null,
            "overflow": null,
            "overflow_x": null,
            "overflow_y": null,
            "padding": null,
            "right": null,
            "top": null,
            "visibility": null,
            "width": null
          }
        },
        "afe73d1c72e944a282a468425c013b87": {
          "model_module": "@jupyter-widgets/controls",
          "model_name": "DescriptionStyleModel",
          "model_module_version": "1.5.0",
          "state": {
            "_model_module": "@jupyter-widgets/controls",
            "_model_module_version": "1.5.0",
            "_model_name": "DescriptionStyleModel",
            "_view_count": null,
            "_view_module": "@jupyter-widgets/base",
            "_view_module_version": "1.2.0",
            "_view_name": "StyleView",
            "description_width": ""
          }
        },
        "b8351597a79d45459474daa61a7cdf9e": {
          "model_module": "@jupyter-widgets/base",
          "model_name": "LayoutModel",
          "model_module_version": "1.2.0",
          "state": {
            "_model_module": "@jupyter-widgets/base",
            "_model_module_version": "1.2.0",
            "_model_name": "LayoutModel",
            "_view_count": null,
            "_view_module": "@jupyter-widgets/base",
            "_view_module_version": "1.2.0",
            "_view_name": "LayoutView",
            "align_content": null,
            "align_items": null,
            "align_self": null,
            "border": null,
            "bottom": null,
            "display": null,
            "flex": null,
            "flex_flow": null,
            "grid_area": null,
            "grid_auto_columns": null,
            "grid_auto_flow": null,
            "grid_auto_rows": null,
            "grid_column": null,
            "grid_gap": null,
            "grid_row": null,
            "grid_template_areas": null,
            "grid_template_columns": null,
            "grid_template_rows": null,
            "height": null,
            "justify_content": null,
            "justify_items": null,
            "left": null,
            "margin": null,
            "max_height": null,
            "max_width": null,
            "min_height": null,
            "min_width": null,
            "object_fit": null,
            "object_position": null,
            "order": null,
            "overflow": null,
            "overflow_x": null,
            "overflow_y": null,
            "padding": null,
            "right": null,
            "top": null,
            "visibility": null,
            "width": null
          }
        },
        "cac6de8e7c6f4ad9a95967564dc02902": {
          "model_module": "@jupyter-widgets/controls",
          "model_name": "ProgressStyleModel",
          "model_module_version": "1.5.0",
          "state": {
            "_model_module": "@jupyter-widgets/controls",
            "_model_module_version": "1.5.0",
            "_model_name": "ProgressStyleModel",
            "_view_count": null,
            "_view_module": "@jupyter-widgets/base",
            "_view_module_version": "1.2.0",
            "_view_name": "StyleView",
            "bar_color": null,
            "description_width": ""
          }
        },
        "7be56689906c4e0096d3d1b69a7eeecd": {
          "model_module": "@jupyter-widgets/base",
          "model_name": "LayoutModel",
          "model_module_version": "1.2.0",
          "state": {
            "_model_module": "@jupyter-widgets/base",
            "_model_module_version": "1.2.0",
            "_model_name": "LayoutModel",
            "_view_count": null,
            "_view_module": "@jupyter-widgets/base",
            "_view_module_version": "1.2.0",
            "_view_name": "LayoutView",
            "align_content": null,
            "align_items": null,
            "align_self": null,
            "border": null,
            "bottom": null,
            "display": null,
            "flex": null,
            "flex_flow": null,
            "grid_area": null,
            "grid_auto_columns": null,
            "grid_auto_flow": null,
            "grid_auto_rows": null,
            "grid_column": null,
            "grid_gap": null,
            "grid_row": null,
            "grid_template_areas": null,
            "grid_template_columns": null,
            "grid_template_rows": null,
            "height": null,
            "justify_content": null,
            "justify_items": null,
            "left": null,
            "margin": null,
            "max_height": null,
            "max_width": null,
            "min_height": null,
            "min_width": null,
            "object_fit": null,
            "object_position": null,
            "order": null,
            "overflow": null,
            "overflow_x": null,
            "overflow_y": null,
            "padding": null,
            "right": null,
            "top": null,
            "visibility": null,
            "width": null
          }
        },
        "52c43459fc2349d5890b3e9a3d6a0e76": {
          "model_module": "@jupyter-widgets/controls",
          "model_name": "DescriptionStyleModel",
          "model_module_version": "1.5.0",
          "state": {
            "_model_module": "@jupyter-widgets/controls",
            "_model_module_version": "1.5.0",
            "_model_name": "DescriptionStyleModel",
            "_view_count": null,
            "_view_module": "@jupyter-widgets/base",
            "_view_module_version": "1.2.0",
            "_view_name": "StyleView",
            "description_width": ""
          }
        }
      }
    }
  },
  "nbformat": 4,
  "nbformat_minor": 0
}